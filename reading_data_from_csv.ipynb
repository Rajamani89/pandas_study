{
 "cells": [
  {
   "cell_type": "code",
   "execution_count": 4,
   "metadata": {},
   "outputs": [],
   "source": [
    "import pandas as pd \n",
    "import os"
   ]
  },
  {
   "cell_type": "code",
   "execution_count": 5,
   "metadata": {},
   "outputs": [],
   "source": [
    "# where is the file path\n",
    "file_path =  os.path.abspath(\"D:\\\\py-automation\\\\pandas\\\\demos\\\\collection-master\\\\artwork_data.csv\")"
   ]
  },
  {
   "cell_type": "code",
   "execution_count": 6,
   "metadata": {},
   "outputs": [],
   "source": [
    "#print (file_path)\n",
    "#print (os.getcwd())\n",
    "# Now let me learn and create pandas dataframe by just learning 7 rows\n",
    "dataframe_1_reading = pd.read_csv(file_path,nrows = 3)\n",
    "#print (dataframe_1_reading)"
   ]
  },
  {
   "cell_type": "code",
   "execution_count": 7,
   "metadata": {},
   "outputs": [],
   "source": [
    "#columns which are usefull to me\n",
    "usefull_columns = [\"id\",\"artist\",\"title\",\"medium\",\"year\",\"acquisitionYear\",\"height\",\"width\",\"units\"]"
   ]
  },
  {
   "cell_type": "code",
   "execution_count": 9,
   "metadata": {},
   "outputs": [],
   "source": [
    "dataframe_2_reading = pd.read_csv(file_path,nrows = 3,index_col=\"id\",usecols = usefull_columns )"
   ]
  },
  {
   "cell_type": "code",
   "execution_count": 10,
   "metadata": {},
   "outputs": [
    {
     "name": "stdout",
     "output_type": "stream",
     "text": [
      "             artist                                              title  \\\n",
      "id                                                                       \n",
      "1035  Blake, Robert  A Figure Bowing before a Seated Old Man with h...   \n",
      "1036  Blake, Robert  Two Drawings of Frightened Figures, Probably f...   \n",
      "1037  Blake, Robert  The Preaching of Warning. Verso: An Old Man En...   \n",
      "\n",
      "                                                 medium    year  \\\n",
      "id                                                                \n",
      "1035  Watercolour, ink, chalk and graphite on paper....     NaN   \n",
      "1036                                  Graphite on paper     NaN   \n",
      "1037        Graphite on paper. Verso: graphite on paper  1785.0   \n",
      "\n",
      "      acquisitionYear  width  height units  \n",
      "id                                          \n",
      "1035             1922    394     419    mm  \n",
      "1036             1922    311     213    mm  \n",
      "1037             1922    343     467    mm  \n"
     ]
    }
   ],
   "source": [
    "print(dataframe_2_reading)"
   ]
  },
  {
   "cell_type": "code",
   "execution_count": 11,
   "metadata": {},
   "outputs": [
    {
     "name": "stderr",
     "output_type": "stream",
     "text": [
      "C:\\ProgramData\\Anaconda3\\anaconda 3\\lib\\site-packages\\IPython\\core\\interactiveshell.py:2785: DtypeWarning: Columns (9,13) have mixed types. Specify dtype option on import or set low_memory=False.\n",
      "  interactivity=interactivity, compiler=compiler, result=result)\n"
     ]
    }
   ],
   "source": [
    "#removing nrows\n",
    "dataframe_2_reading = pd.read_csv(file_path,index_col=\"id\",usecols = usefull_columns )"
   ]
  },
  {
   "cell_type": "code",
   "execution_count": null,
   "metadata": {},
   "outputs": [],
   "source": []
  }
 ],
 "metadata": {
  "kernelspec": {
   "display_name": "Python 3",
   "language": "python",
   "name": "python3"
  },
  "language_info": {
   "codemirror_mode": {
    "name": "ipython",
    "version": 3
   },
   "file_extension": ".py",
   "mimetype": "text/x-python",
   "name": "python",
   "nbconvert_exporter": "python",
   "pygments_lexer": "ipython3",
   "version": "3.7.0"
  }
 },
 "nbformat": 4,
 "nbformat_minor": 2
}
